{
  "nbformat": 4,
  "nbformat_minor": 0,
  "metadata": {
    "colab": {
      "provenance": []
    },
    "kernelspec": {
      "name": "python3",
      "display_name": "Python 3"
    },
    "language_info": {
      "name": "python"
    }
  },
  "cells": [
    {
      "cell_type": "code",
      "source": [
        "pip install qrcode"
      ],
      "metadata": {
        "colab": {
          "base_uri": "https://localhost:8080/"
        },
        "id": "VY-_PRcIdgIE",
        "outputId": "d90bfadd-00d1-435c-e0e8-6287093be590"
      },
      "execution_count": 4,
      "outputs": [
        {
          "output_type": "stream",
          "name": "stdout",
          "text": [
            "Requirement already satisfied: qrcode in /usr/local/lib/python3.10/dist-packages (8.0)\n"
          ]
        }
      ]
    },
    {
      "cell_type": "code",
      "source": [
        "#import qrcode as qr\n",
        "#img = qr.make(\"https://github.com/khanhuzaif348/python_project/tree/main\")\n",
        "#img.save(\"github.png\")"
      ],
      "metadata": {
        "id": "uYOZuyp3dnh8"
      },
      "execution_count": 5,
      "outputs": []
    },
    {
      "cell_type": "code",
      "source": [
        "import qrcode\n",
        "from PIL import Image\n",
        "from qrcode.console_scripts import error_correction\n",
        "qr =qrcode.QRCode(version=1,\n",
        "                  error_correction=qrcode.constants.ERROR_CORRECT_H,\n",
        "                  box_size=10,border=4)\n",
        "qr.add_data(\"https://github.com/khanhuzaif348/python_project/tree/main\")\n",
        "qr.make(fit=True)\n",
        "img=qr.make_image(fill_color=\"red\",back_color=\"white\")\n",
        "img.save(\"github1.png\")\n"
      ],
      "metadata": {
        "id": "Okr15KycjY2m"
      },
      "execution_count": 13,
      "outputs": []
    }
  ]
}